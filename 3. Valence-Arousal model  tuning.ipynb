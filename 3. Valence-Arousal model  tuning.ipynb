{
 "cells": [
  {
   "cell_type": "markdown",
   "id": "db981aa3",
   "metadata": {},
   "source": [
    "# Libraries import"
   ]
  },
  {
   "cell_type": "code",
   "execution_count": 87,
   "id": "19e7c62e",
   "metadata": {},
   "outputs": [],
   "source": [
    "import pandas as pd\n",
    "import numpy as np\n",
    "import seaborn as sns\n",
    "import tensorflow as tf\n",
    "\n",
    "import random\n",
    "import cv2\n",
    "\n",
    "from matplotlib import pyplot as plt\n",
    "from PIL import Image\n",
    "\n",
    "from keras.preprocessing.image import ImageDataGenerator\n",
    "from keras_vggface.utils import preprocess_input as preprocess_input_vggface\n",
    "from keras_vggface.vggface import VGGFace\n",
    "from livelossplot.tf_keras import PlotLossesCallback\n"
   ]
  },
  {
   "cell_type": "markdown",
   "id": "8f608bc4",
   "metadata": {},
   "source": [
    "# Data loading"
   ]
  },
  {
   "cell_type": "code",
   "execution_count": 88,
   "id": "e4572b1a",
   "metadata": {},
   "outputs": [
    {
     "data": {
      "text/html": [
       "<div>\n",
       "<style scoped>\n",
       "    .dataframe tbody tr th:only-of-type {\n",
       "        vertical-align: middle;\n",
       "    }\n",
       "\n",
       "    .dataframe tbody tr th {\n",
       "        vertical-align: top;\n",
       "    }\n",
       "\n",
       "    .dataframe thead th {\n",
       "        text-align: right;\n",
       "    }\n",
       "</style>\n",
       "<table border=\"1\" class=\"dataframe\">\n",
       "  <thead>\n",
       "    <tr style=\"text-align: right;\">\n",
       "      <th></th>\n",
       "      <th>image_path</th>\n",
       "      <th>emotion</th>\n",
       "    </tr>\n",
       "  </thead>\n",
       "  <tbody>\n",
       "    <tr>\n",
       "      <th>0</th>\n",
       "      <td>./_datasets/train_dataset/anger/0.jpg</td>\n",
       "      <td>anger</td>\n",
       "    </tr>\n",
       "    <tr>\n",
       "      <th>1</th>\n",
       "      <td>./_datasets/train_dataset/anger/1.jpg</td>\n",
       "      <td>anger</td>\n",
       "    </tr>\n",
       "    <tr>\n",
       "      <th>2</th>\n",
       "      <td>./_datasets/train_dataset/anger/10.jpg</td>\n",
       "      <td>anger</td>\n",
       "    </tr>\n",
       "    <tr>\n",
       "      <th>3</th>\n",
       "      <td>./_datasets/train_dataset/anger/100.jpg</td>\n",
       "      <td>anger</td>\n",
       "    </tr>\n",
       "    <tr>\n",
       "      <th>4</th>\n",
       "      <td>./_datasets/train_dataset/anger/1000.jpg</td>\n",
       "      <td>anger</td>\n",
       "    </tr>\n",
       "  </tbody>\n",
       "</table>\n",
       "</div>"
      ],
      "text/plain": [
       "                                 image_path emotion\n",
       "0     ./_datasets/train_dataset/anger/0.jpg   anger\n",
       "1     ./_datasets/train_dataset/anger/1.jpg   anger\n",
       "2    ./_datasets/train_dataset/anger/10.jpg   anger\n",
       "3   ./_datasets/train_dataset/anger/100.jpg   anger\n",
       "4  ./_datasets/train_dataset/anger/1000.jpg   anger"
      ]
     },
     "execution_count": 88,
     "metadata": {},
     "output_type": "execute_result"
    }
   ],
   "source": [
    "# load csv with images\n",
    "df = pd.read_csv('./_datasets/train.csv', index_col = 0)\n",
    "# edit path to file location\n",
    "df['image_path'] = df['image_path'].apply(lambda x: str.replace(x, 'train', '_datasets/train_dataset'))\n",
    "df.head()"
   ]
  },
  {
   "cell_type": "markdown",
   "id": "c38fe40b",
   "metadata": {},
   "source": [
    "# Valence-arousal intro"
   ]
  },
  {
   "cell_type": "markdown",
   "id": "53d00a05",
   "metadata": {},
   "source": [
    "<center><img src=\"img/valence-arousal.jpg\" width=\"600\"></center>"
   ]
  },
  {
   "cell_type": "markdown",
   "id": "2c0c4573",
   "metadata": {},
   "source": [
    "While our dataset doesn't have any information about Valence-Arousal parametres of given fotos, I shall use random values close to given emotions.\n",
    "Typical 2D valence-arousal emotion space [Russell 1980] shown above. I will use numeric values of given emotions according to https://www.mdpi.com/1660-4601/17/22/8534/htm:"
   ]
  },
  {
   "cell_type": "code",
   "execution_count": 89,
   "id": "ea048f25",
   "metadata": {},
   "outputs": [],
   "source": [
    "# fisrt number - valence, second - arousal\n",
    "VA_emotions = {\n",
    "    'anger':    [ 1.5, 6.72],   # гнев\n",
    "    'contempt': [ 1.5, 3.75],   # презрение\n",
    "    'disgust':  [ 3.5,  2.5],   # отвращение\n",
    "    'fear':     [ 2.0,  6.2],   # страх\n",
    "    'happy':    [ 6.6,  4.2],   # радость\n",
    "    'neutral':  [ 4.0,  4.0],   # безразличие\n",
    "    'sad':      [ 1.5,  1.5],   # грусть\n",
    "    'surprise': [ 6.0,  6.0],   # удивление\n",
    "    'uncertain':[ 3.0,  4.0]    # неопределенность\n",
    "}"
   ]
  },
  {
   "cell_type": "code",
   "execution_count": 90,
   "id": "ac53e586",
   "metadata": {},
   "outputs": [
    {
     "data": {
      "image/png": "[encoded data removed]",
      "text/plain": [
       "<Figure size 720x720 with 1 Axes>"
      ]
     },
     "metadata": {
      "needs_background": "light"
     },
     "output_type": "display_data"
    }
   ],
   "source": [
    "# drawing points of given emotions\n",
    "fig, ax = plt.subplots(figsize=(10,10))\n",
    "for emotion, (v, a) in VA_emotions.items():\n",
    "    plt.scatter(v, a, label=emotion, s=150)\n",
    "    plt.text(v-0.1, a+0.03, emotion, size=12)\n",
    "plt.xlim(1,7)\n",
    "plt.ylim(1,7)\n",
    "plt.vlines(4, 1, 7, linestyle='dashed', lw=1)\n",
    "plt.hlines(4, 1, 7, linestyle='dashed', lw=1)\n",
    "plt.xlabel('Valence', size=14)\n",
    "plt.ylabel('Arousal', size=14)\n",
    "plt.title('Emotions in valence-arousal coords', size=17)\n",
    "plt.show()"
   ]
  },
  {
   "cell_type": "code",
   "execution_count": 91,
   "id": "583018d3",
   "metadata": {},
   "outputs": [
    {
     "data": {
      "text/html": [
       "<div>\n",
       "<style scoped>\n",
       "    .dataframe tbody tr th:only-of-type {\n",
       "        vertical-align: middle;\n",
       "    }\n",
       "\n",
       "    .dataframe tbody tr th {\n",
       "        vertical-align: top;\n",
       "    }\n",
       "\n",
       "    .dataframe thead th {\n",
       "        text-align: right;\n",
       "    }\n",
       "</style>\n",
       "<table border=\"1\" class=\"dataframe\">\n",
       "  <thead>\n",
       "    <tr style=\"text-align: right;\">\n",
       "      <th></th>\n",
       "      <th>image_path</th>\n",
       "      <th>emotion</th>\n",
       "      <th>Valence</th>\n",
       "      <th>Arousal</th>\n",
       "    </tr>\n",
       "  </thead>\n",
       "  <tbody>\n",
       "    <tr>\n",
       "      <th>0</th>\n",
       "      <td>./_datasets/train_dataset/anger/0.jpg</td>\n",
       "      <td>anger</td>\n",
       "      <td>1.487274</td>\n",
       "      <td>6.750435</td>\n",
       "    </tr>\n",
       "    <tr>\n",
       "      <th>1</th>\n",
       "      <td>./_datasets/train_dataset/anger/1.jpg</td>\n",
       "      <td>anger</td>\n",
       "      <td>1.494386</td>\n",
       "      <td>6.564107</td>\n",
       "    </tr>\n",
       "    <tr>\n",
       "      <th>2</th>\n",
       "      <td>./_datasets/train_dataset/anger/10.jpg</td>\n",
       "      <td>anger</td>\n",
       "      <td>1.593352</td>\n",
       "      <td>6.627456</td>\n",
       "    </tr>\n",
       "    <tr>\n",
       "      <th>3</th>\n",
       "      <td>./_datasets/train_dataset/anger/100.jpg</td>\n",
       "      <td>anger</td>\n",
       "      <td>1.465685</td>\n",
       "      <td>6.549036</td>\n",
       "    </tr>\n",
       "    <tr>\n",
       "      <th>4</th>\n",
       "      <td>./_datasets/train_dataset/anger/1000.jpg</td>\n",
       "      <td>anger</td>\n",
       "      <td>1.588712</td>\n",
       "      <td>6.721872</td>\n",
       "    </tr>\n",
       "    <tr>\n",
       "      <th>...</th>\n",
       "      <td>...</td>\n",
       "      <td>...</td>\n",
       "      <td>...</td>\n",
       "      <td>...</td>\n",
       "    </tr>\n",
       "    <tr>\n",
       "      <th>50041</th>\n",
       "      <td>./_datasets/train_dataset/uncertain/995.jpg</td>\n",
       "      <td>uncertain</td>\n",
       "      <td>2.878353</td>\n",
       "      <td>4.128137</td>\n",
       "    </tr>\n",
       "    <tr>\n",
       "      <th>50042</th>\n",
       "      <td>./_datasets/train_dataset/uncertain/996.jpg</td>\n",
       "      <td>uncertain</td>\n",
       "      <td>2.892440</td>\n",
       "      <td>3.950330</td>\n",
       "    </tr>\n",
       "    <tr>\n",
       "      <th>50043</th>\n",
       "      <td>./_datasets/train_dataset/uncertain/997.jpg</td>\n",
       "      <td>uncertain</td>\n",
       "      <td>3.057274</td>\n",
       "      <td>4.036361</td>\n",
       "    </tr>\n",
       "    <tr>\n",
       "      <th>50044</th>\n",
       "      <td>./_datasets/train_dataset/uncertain/998.jpg</td>\n",
       "      <td>uncertain</td>\n",
       "      <td>3.215350</td>\n",
       "      <td>4.022060</td>\n",
       "    </tr>\n",
       "    <tr>\n",
       "      <th>50045</th>\n",
       "      <td>./_datasets/train_dataset/uncertain/999.jpg</td>\n",
       "      <td>uncertain</td>\n",
       "      <td>3.198000</td>\n",
       "      <td>4.189323</td>\n",
       "    </tr>\n",
       "  </tbody>\n",
       "</table>\n",
       "<p>50046 rows × 4 columns</p>\n",
       "</div>"
      ],
      "text/plain": [
       "                                        image_path    emotion   Valence  \\\n",
       "0            ./_datasets/train_dataset/anger/0.jpg      anger  1.487274   \n",
       "1            ./_datasets/train_dataset/anger/1.jpg      anger  1.494386   \n",
       "2           ./_datasets/train_dataset/anger/10.jpg      anger  1.593352   \n",
       "3          ./_datasets/train_dataset/anger/100.jpg      anger  1.465685   \n",
       "4         ./_datasets/train_dataset/anger/1000.jpg      anger  1.588712   \n",
       "...                                            ...        ...       ...   \n",
       "50041  ./_datasets/train_dataset/uncertain/995.jpg  uncertain  2.878353   \n",
       "50042  ./_datasets/train_dataset/uncertain/996.jpg  uncertain  2.892440   \n",
       "50043  ./_datasets/train_dataset/uncertain/997.jpg  uncertain  3.057274   \n",
       "50044  ./_datasets/train_dataset/uncertain/998.jpg  uncertain  3.215350   \n",
       "50045  ./_datasets/train_dataset/uncertain/999.jpg  uncertain  3.198000   \n",
       "\n",
       "        Arousal  \n",
       "0      6.750435  \n",
       "1      6.564107  \n",
       "2      6.627456  \n",
       "3      6.549036  \n",
       "4      6.721872  \n",
       "...         ...  \n",
       "50041  4.128137  \n",
       "50042  3.950330  \n",
       "50043  4.036361  \n",
       "50044  4.022060  \n",
       "50045  4.189323  \n",
       "\n",
       "[50046 rows x 4 columns]"
      ]
     },
     "execution_count": 91,
     "metadata": {},
     "output_type": "execute_result"
    }
   ],
   "source": [
    "# featuring of valence-arousal values of given foto by adding random float within (-0.22, 0.22) of base emotion value\n",
    "\n",
    "def get_valence(emotion):\n",
    "    \"\"\"\n",
    "    function return random valence value of given emotion\n",
    "    \"\"\"\n",
    "    emotion_valence = VA_emotions[emotion][0] + random.uniform(-0.22, 0.22)\n",
    "    return emotion_valence\n",
    "\n",
    "\n",
    "def get_arousal(emotion):\n",
    "    \"\"\"\n",
    "    function return random arousal value of given emotion\n",
    "    \"\"\"\n",
    "    emotion_arousal = VA_emotions[emotion][1] + random.uniform(-0.22, 0.22)\n",
    "    return emotion_arousal\n",
    "    \n",
    "df['Valence'] = df['emotion'].apply(lambda x: get_valence(x))\n",
    "df['Arousal'] = df['emotion'].apply(lambda x: get_arousal(x))\n",
    "\n",
    "df"
   ]
  },
  {
   "cell_type": "code",
   "execution_count": 92,
   "id": "010b4c87",
   "metadata": {},
   "outputs": [
    {
     "data": {
      "image/png": "[encoded data removed]",
      "text/plain": [
       "<Figure size 720x720 with 1 Axes>"
      ]
     },
     "metadata": {
      "needs_background": "light"
     },
     "output_type": "display_data"
    }
   ],
   "source": [
    "fig, ax = plt.subplots(figsize=(10,10))\n",
    "plt.xlim(1,7)\n",
    "plt.ylim(1,7)\n",
    "plt.vlines(4, 1, 7, linestyle='dashed', lw=1)\n",
    "plt.hlines(4, 1, 7, linestyle='dashed', lw=1)\n",
    "plt.xlabel('Valence', size=14)\n",
    "plt.ylabel('Arousal', size=14)\n",
    "plt.title('Emotions in valence-arousal coords', size=17)\n",
    "ax = sns.scatterplot(x = 'Valence', y = 'Arousal', data = df, hue = 'emotion')\n",
    "plt.show()"
   ]
  },
  {
   "cell_type": "markdown",
   "id": "1f65e49d",
   "metadata": {},
   "source": [
    "# DataGenerators with augmentation"
   ]
  },
  {
   "cell_type": "code",
   "execution_count": 99,
   "id": "911a5010",
   "metadata": {
    "scrolled": true
   },
   "outputs": [
    {
     "name": "stdout",
     "output_type": "stream",
     "text": [
      "Found 40037 validated image filenames.\n",
      "Found 10009 validated image filenames.\n"
     ]
    }
   ],
   "source": [
    "# Important variables\n",
    "BATCH_SIZE = 16\n",
    "IMAGE_SIZE = 224\n",
    "N_CLASSES = 9\n",
    "\n",
    "# initialize ImageDataGenerator with augmentation\n",
    "data_gen = ImageDataGenerator(featurewise_center=False,\n",
    "                              brightness_range=[0.7, 1],\n",
    "                              shear_range=0.2,\n",
    "                              zoom_range=0.2,\n",
    "                              fill_mode=\"nearest\",\n",
    "                              horizontal_flip=True,\n",
    "                              vertical_flip=False,\n",
    "                              preprocessing_function=preprocess_input_vggface,\n",
    "                              validation_split=0.2)\n",
    "\n",
    "# train and validation generator\n",
    "train_data_gen = data_gen.flow_from_dataframe(dataframe = df,\n",
    "                                              x_col = 'image_path',\n",
    "                                              y_col = ['Valence', 'Arousal'],\n",
    "                                              target_size=(IMAGE_SIZE, IMAGE_SIZE),\n",
    "                                              class_mode=\"raw\",\n",
    "                                              batch_size=BATCH_SIZE,\n",
    "                                              shuffle=True,\n",
    "                                              subset=\"training\")\n",
    "\n",
    "val_data_gen = data_gen.flow_from_dataframe(dataframe = df,\n",
    "                                            x_col = 'image_path',\n",
    "                                            y_col = ['Valence', 'Arousal'],\n",
    "                                            target_size=(IMAGE_SIZE, IMAGE_SIZE),\n",
    "                                            class_mode=\"raw\",\n",
    "                                            batch_size=BATCH_SIZE,\n",
    "                                            shuffle=False,\n",
    "                                            subset=\"validation\")\n"
   ]
  },
  {
   "cell_type": "markdown",
   "id": "505e9390",
   "metadata": {},
   "source": [
    "# Loading of VGGFace and fine-tuning"
   ]
  },
  {
   "cell_type": "markdown",
   "id": "58d31a38",
   "metadata": {},
   "source": [
    "I use pre-trained VGGFace model with only few last layres trainable. My final model is build on VGGFace without top-layer, one flatten layer, one hidden 512 layer, dropout and one last layer with two neurons (for each prediction value) with linear activation."
   ]
  },
  {
   "cell_type": "code",
   "execution_count": 137,
   "id": "01c4800f",
   "metadata": {},
   "outputs": [
    {
     "name": "stdout",
     "output_type": "stream",
     "text": [
      "Model: \"vggface_resnet50\"\n",
      "__________________________________________________________________________________________________\n",
      "Layer (type)                    Output Shape         Param #     Connected to                     \n",
      "==================================================================================================\n",
      "input_8 (InputLayer)            [(None, 224, 224, 3) 0                                            \n",
      "__________________________________________________________________________________________________\n",
      "conv1/7x7_s2 (Conv2D)           (None, 112, 112, 64) 9408        input_8[0][0]                    \n",
      "__________________________________________________________________________________________________\n",
      "conv1/7x7_s2/bn (BatchNormaliza (None, 112, 112, 64) 256         conv1/7x7_s2[0][0]               \n",
      "__________________________________________________________________________________________________\n",
      "activation_343 (Activation)     (None, 112, 112, 64) 0           conv1/7x7_s2/bn[0][0]            \n",
      "__________________________________________________________________________________________________\n",
      "max_pooling2d_7 (MaxPooling2D)  (None, 55, 55, 64)   0           activation_343[0][0]             \n",
      "__________________________________________________________________________________________________\n",
      "conv2_1_1x1_reduce (Conv2D)     (None, 55, 55, 64)   4096        max_pooling2d_7[0][0]            \n",
      "__________________________________________________________________________________________________\n",
      "conv2_1_1x1_reduce/bn (BatchNor (None, 55, 55, 64)   256         conv2_1_1x1_reduce[0][0]         \n",
      "__________________________________________________________________________________________________\n",
      "activation_344 (Activation)     (None, 55, 55, 64)   0           conv2_1_1x1_reduce/bn[0][0]      \n",
      "__________________________________________________________________________________________________\n",
      "conv2_1_3x3 (Conv2D)            (None, 55, 55, 64)   36864       activation_344[0][0]             \n",
      "__________________________________________________________________________________________________\n",
      "conv2_1_3x3/bn (BatchNormalizat (None, 55, 55, 64)   256         conv2_1_3x3[0][0]                \n",
      "__________________________________________________________________________________________________\n",
      "activation_345 (Activation)     (None, 55, 55, 64)   0           conv2_1_3x3/bn[0][0]             \n",
      "__________________________________________________________________________________________________\n",
      "conv2_1_1x1_increase (Conv2D)   (None, 55, 55, 256)  16384       activation_345[0][0]             \n",
      "__________________________________________________________________________________________________\n",
      "conv2_1_1x1_proj (Conv2D)       (None, 55, 55, 256)  16384       max_pooling2d_7[0][0]            \n",
      "__________________________________________________________________________________________________\n",
      "conv2_1_1x1_increase/bn (BatchN (None, 55, 55, 256)  1024        conv2_1_1x1_increase[0][0]       \n",
      "__________________________________________________________________________________________________\n",
      "conv2_1_1x1_proj/bn (BatchNorma (None, 55, 55, 256)  1024        conv2_1_1x1_proj[0][0]           \n",
      "__________________________________________________________________________________________________\n",
      "add_112 (Add)                   (None, 55, 55, 256)  0           conv2_1_1x1_increase/bn[0][0]    \n",
      "                                                                 conv2_1_1x1_proj/bn[0][0]        \n",
      "__________________________________________________________________________________________________\n",
      "activation_346 (Activation)     (None, 55, 55, 256)  0           add_112[0][0]                    \n",
      "__________________________________________________________________________________________________\n",
      "conv2_2_1x1_reduce (Conv2D)     (None, 55, 55, 64)   16384       activation_346[0][0]             \n",
      "__________________________________________________________________________________________________\n",
      "conv2_2_1x1_reduce/bn (BatchNor (None, 55, 55, 64)   256         conv2_2_1x1_reduce[0][0]         \n",
      "__________________________________________________________________________________________________\n",
      "activation_347 (Activation)     (None, 55, 55, 64)   0           conv2_2_1x1_reduce/bn[0][0]      \n",
      "__________________________________________________________________________________________________\n",
      "conv2_2_3x3 (Conv2D)            (None, 55, 55, 64)   36864       activation_347[0][0]             \n",
      "__________________________________________________________________________________________________\n",
      "conv2_2_3x3/bn (BatchNormalizat (None, 55, 55, 64)   256         conv2_2_3x3[0][0]                \n",
      "__________________________________________________________________________________________________\n",
      "activation_348 (Activation)     (None, 55, 55, 64)   0           conv2_2_3x3/bn[0][0]             \n",
      "__________________________________________________________________________________________________\n",
      "conv2_2_1x1_increase (Conv2D)   (None, 55, 55, 256)  16384       activation_348[0][0]             \n",
      "__________________________________________________________________________________________________\n",
      "conv2_2_1x1_increase/bn (BatchN (None, 55, 55, 256)  1024        conv2_2_1x1_increase[0][0]       \n",
      "__________________________________________________________________________________________________\n",
      "add_113 (Add)                   (None, 55, 55, 256)  0           conv2_2_1x1_increase/bn[0][0]    \n",
      "                                                                 activation_346[0][0]             \n",
      "__________________________________________________________________________________________________\n",
      "activation_349 (Activation)     (None, 55, 55, 256)  0           add_113[0][0]                    \n",
      "__________________________________________________________________________________________________\n",
      "conv2_3_1x1_reduce (Conv2D)     (None, 55, 55, 64)   16384       activation_349[0][0]             \n",
      "__________________________________________________________________________________________________\n",
      "conv2_3_1x1_reduce/bn (BatchNor (None, 55, 55, 64)   256         conv2_3_1x1_reduce[0][0]         \n",
      "__________________________________________________________________________________________________\n",
      "activation_350 (Activation)     (None, 55, 55, 64)   0           conv2_3_1x1_reduce/bn[0][0]      \n",
      "__________________________________________________________________________________________________\n",
      "conv2_3_3x3 (Conv2D)            (None, 55, 55, 64)   36864       activation_350[0][0]             \n",
      "__________________________________________________________________________________________________\n",
      "conv2_3_3x3/bn (BatchNormalizat (None, 55, 55, 64)   256         conv2_3_3x3[0][0]                \n",
      "__________________________________________________________________________________________________\n",
      "activation_351 (Activation)     (None, 55, 55, 64)   0           conv2_3_3x3/bn[0][0]             \n",
      "__________________________________________________________________________________________________\n",
      "conv2_3_1x1_increase (Conv2D)   (None, 55, 55, 256)  16384       activation_351[0][0]             \n",
      "__________________________________________________________________________________________________\n",
      "conv2_3_1x1_increase/bn (BatchN (None, 55, 55, 256)  1024        conv2_3_1x1_increase[0][0]       \n",
      "__________________________________________________________________________________________________\n",
      "add_114 (Add)                   (None, 55, 55, 256)  0           conv2_3_1x1_increase/bn[0][0]    \n",
      "                                                                 activation_349[0][0]             \n",
      "__________________________________________________________________________________________________\n",
      "activation_352 (Activation)     (None, 55, 55, 256)  0           add_114[0][0]                    \n",
      "__________________________________________________________________________________________________\n",
      "conv3_1_1x1_reduce (Conv2D)     (None, 28, 28, 128)  32768       activation_352[0][0]             \n",
      "__________________________________________________________________________________________________\n",
      "conv3_1_1x1_reduce/bn (BatchNor (None, 28, 28, 128)  512         conv3_1_1x1_reduce[0][0]         \n",
      "__________________________________________________________________________________________________\n",
      "activation_353 (Activation)     (None, 28, 28, 128)  0           conv3_1_1x1_reduce/bn[0][0]      \n",
      "__________________________________________________________________________________________________\n",
      "conv3_1_3x3 (Conv2D)            (None, 28, 28, 128)  147456      activation_353[0][0]             \n",
      "__________________________________________________________________________________________________\n",
      "conv3_1_3x3/bn (BatchNormalizat (None, 28, 28, 128)  512         conv3_1_3x3[0][0]                \n",
      "__________________________________________________________________________________________________\n",
      "activation_354 (Activation)     (None, 28, 28, 128)  0           conv3_1_3x3/bn[0][0]             \n",
      "__________________________________________________________________________________________________\n",
      "conv3_1_1x1_increase (Conv2D)   (None, 28, 28, 512)  65536       activation_354[0][0]             \n",
      "__________________________________________________________________________________________________\n",
      "conv3_1_1x1_proj (Conv2D)       (None, 28, 28, 512)  131072      activation_352[0][0]             \n",
      "__________________________________________________________________________________________________\n",
      "conv3_1_1x1_increase/bn (BatchN (None, 28, 28, 512)  2048        conv3_1_1x1_increase[0][0]       \n",
      "__________________________________________________________________________________________________\n",
      "conv3_1_1x1_proj/bn (BatchNorma (None, 28, 28, 512)  2048        conv3_1_1x1_proj[0][0]           \n",
      "__________________________________________________________________________________________________\n",
      "add_115 (Add)                   (None, 28, 28, 512)  0           conv3_1_1x1_increase/bn[0][0]    \n",
      "                                                                 conv3_1_1x1_proj/bn[0][0]        \n",
      "__________________________________________________________________________________________________\n",
      "activation_355 (Activation)     (None, 28, 28, 512)  0           add_115[0][0]                    \n",
      "__________________________________________________________________________________________________\n",
      "conv3_2_1x1_reduce (Conv2D)     (None, 28, 28, 128)  65536       activation_355[0][0]             \n",
      "__________________________________________________________________________________________________\n",
      "conv3_2_1x1_reduce/bn (BatchNor (None, 28, 28, 128)  512         conv3_2_1x1_reduce[0][0]         \n",
      "__________________________________________________________________________________________________\n",
      "activation_356 (Activation)     (None, 28, 28, 128)  0           conv3_2_1x1_reduce/bn[0][0]      \n",
      "__________________________________________________________________________________________________\n",
      "conv3_2_3x3 (Conv2D)            (None, 28, 28, 128)  147456      activation_356[0][0]             \n",
      "__________________________________________________________________________________________________\n",
      "conv3_2_3x3/bn (BatchNormalizat (None, 28, 28, 128)  512         conv3_2_3x3[0][0]                \n",
      "__________________________________________________________________________________________________\n",
      "activation_357 (Activation)     (None, 28, 28, 128)  0           conv3_2_3x3/bn[0][0]             \n",
      "__________________________________________________________________________________________________\n",
      "conv3_2_1x1_increase (Conv2D)   (None, 28, 28, 512)  65536       activation_357[0][0]             \n",
      "__________________________________________________________________________________________________\n",
      "conv3_2_1x1_increase/bn (BatchN (None, 28, 28, 512)  2048        conv3_2_1x1_increase[0][0]       \n",
      "__________________________________________________________________________________________________\n",
      "add_116 (Add)                   (None, 28, 28, 512)  0           conv3_2_1x1_increase/bn[0][0]    \n",
      "                                                                 activation_355[0][0]             \n",
      "__________________________________________________________________________________________________\n",
      "activation_358 (Activation)     (None, 28, 28, 512)  0           add_116[0][0]                    \n",
      "__________________________________________________________________________________________________\n",
      "conv3_3_1x1_reduce (Conv2D)     (None, 28, 28, 128)  65536       activation_358[0][0]             \n",
      "__________________________________________________________________________________________________\n",
      "conv3_3_1x1_reduce/bn (BatchNor (None, 28, 28, 128)  512         conv3_3_1x1_reduce[0][0]         \n",
      "__________________________________________________________________________________________________\n",
      "activation_359 (Activation)     (None, 28, 28, 128)  0           conv3_3_1x1_reduce/bn[0][0]      \n",
      "__________________________________________________________________________________________________\n",
      "conv3_3_3x3 (Conv2D)            (None, 28, 28, 128)  147456      activation_359[0][0]             \n",
      "__________________________________________________________________________________________________\n",
      "conv3_3_3x3/bn (BatchNormalizat (None, 28, 28, 128)  512         conv3_3_3x3[0][0]                \n",
      "__________________________________________________________________________________________________\n",
      "activation_360 (Activation)     (None, 28, 28, 128)  0           conv3_3_3x3/bn[0][0]             \n",
      "__________________________________________________________________________________________________\n",
      "conv3_3_1x1_increase (Conv2D)   (None, 28, 28, 512)  65536       activation_360[0][0]             \n",
      "__________________________________________________________________________________________________\n",
      "conv3_3_1x1_increase/bn (BatchN (None, 28, 28, 512)  2048        conv3_3_1x1_increase[0][0]       \n",
      "__________________________________________________________________________________________________\n",
      "add_117 (Add)                   (None, 28, 28, 512)  0           conv3_3_1x1_increase/bn[0][0]    \n",
      "                                                                 activation_358[0][0]             \n",
      "__________________________________________________________________________________________________\n",
      "activation_361 (Activation)     (None, 28, 28, 512)  0           add_117[0][0]                    \n",
      "__________________________________________________________________________________________________\n",
      "conv3_4_1x1_reduce (Conv2D)     (None, 28, 28, 128)  65536       activation_361[0][0]             \n",
      "__________________________________________________________________________________________________\n",
      "conv3_4_1x1_reduce/bn (BatchNor (None, 28, 28, 128)  512         conv3_4_1x1_reduce[0][0]         \n",
      "__________________________________________________________________________________________________\n",
      "activation_362 (Activation)     (None, 28, 28, 128)  0           conv3_4_1x1_reduce/bn[0][0]      \n",
      "__________________________________________________________________________________________________\n",
      "conv3_4_3x3 (Conv2D)            (None, 28, 28, 128)  147456      activation_362[0][0]             \n",
      "__________________________________________________________________________________________________\n",
      "conv3_4_3x3/bn (BatchNormalizat (None, 28, 28, 128)  512         conv3_4_3x3[0][0]                \n",
      "__________________________________________________________________________________________________\n",
      "activation_363 (Activation)     (None, 28, 28, 128)  0           conv3_4_3x3/bn[0][0]             \n",
      "__________________________________________________________________________________________________\n",
      "conv3_4_1x1_increase (Conv2D)   (None, 28, 28, 512)  65536       activation_363[0][0]             \n",
      "__________________________________________________________________________________________________\n",
      "conv3_4_1x1_increase/bn (BatchN (None, 28, 28, 512)  2048        conv3_4_1x1_increase[0][0]       \n",
      "__________________________________________________________________________________________________\n",
      "add_118 (Add)                   (None, 28, 28, 512)  0           conv3_4_1x1_increase/bn[0][0]    \n",
      "                                                                 activation_361[0][0]             \n",
      "__________________________________________________________________________________________________\n",
      "activation_364 (Activation)     (None, 28, 28, 512)  0           add_118[0][0]                    \n",
      "__________________________________________________________________________________________________\n",
      "conv4_1_1x1_reduce (Conv2D)     (None, 14, 14, 256)  131072      activation_364[0][0]             \n",
      "__________________________________________________________________________________________________\n",
      "conv4_1_1x1_reduce/bn (BatchNor (None, 14, 14, 256)  1024        conv4_1_1x1_reduce[0][0]         \n",
      "__________________________________________________________________________________________________\n",
      "activation_365 (Activation)     (None, 14, 14, 256)  0           conv4_1_1x1_reduce/bn[0][0]      \n",
      "__________________________________________________________________________________________________\n",
      "conv4_1_3x3 (Conv2D)            (None, 14, 14, 256)  589824      activation_365[0][0]             \n",
      "__________________________________________________________________________________________________\n",
      "conv4_1_3x3/bn (BatchNormalizat (None, 14, 14, 256)  1024        conv4_1_3x3[0][0]                \n",
      "__________________________________________________________________________________________________\n",
      "activation_366 (Activation)     (None, 14, 14, 256)  0           conv4_1_3x3/bn[0][0]             \n",
      "__________________________________________________________________________________________________\n",
      "conv4_1_1x1_increase (Conv2D)   (None, 14, 14, 1024) 262144      activation_366[0][0]             \n",
      "__________________________________________________________________________________________________\n",
      "conv4_1_1x1_proj (Conv2D)       (None, 14, 14, 1024) 524288      activation_364[0][0]             \n",
      "__________________________________________________________________________________________________\n",
      "conv4_1_1x1_increase/bn (BatchN (None, 14, 14, 1024) 4096        conv4_1_1x1_increase[0][0]       \n",
      "__________________________________________________________________________________________________\n",
      "conv4_1_1x1_proj/bn (BatchNorma (None, 14, 14, 1024) 4096        conv4_1_1x1_proj[0][0]           \n",
      "__________________________________________________________________________________________________\n",
      "add_119 (Add)                   (None, 14, 14, 1024) 0           conv4_1_1x1_increase/bn[0][0]    \n",
      "                                                                 conv4_1_1x1_proj/bn[0][0]        \n",
      "__________________________________________________________________________________________________\n",
      "activation_367 (Activation)     (None, 14, 14, 1024) 0           add_119[0][0]                    \n",
      "__________________________________________________________________________________________________\n",
      "conv4_2_1x1_reduce (Conv2D)     (None, 14, 14, 256)  262144      activation_367[0][0]             \n",
      "__________________________________________________________________________________________________\n",
      "conv4_2_1x1_reduce/bn (BatchNor (None, 14, 14, 256)  1024        conv4_2_1x1_reduce[0][0]         \n",
      "__________________________________________________________________________________________________\n",
      "activation_368 (Activation)     (None, 14, 14, 256)  0           conv4_2_1x1_reduce/bn[0][0]      \n",
      "__________________________________________________________________________________________________\n",
      "conv4_2_3x3 (Conv2D)            (None, 14, 14, 256)  589824      activation_368[0][0]             \n",
      "__________________________________________________________________________________________________\n",
      "conv4_2_3x3/bn (BatchNormalizat (None, 14, 14, 256)  1024        conv4_2_3x3[0][0]                \n",
      "__________________________________________________________________________________________________\n",
      "activation_369 (Activation)     (None, 14, 14, 256)  0           conv4_2_3x3/bn[0][0]             \n",
      "__________________________________________________________________________________________________\n",
      "conv4_2_1x1_increase (Conv2D)   (None, 14, 14, 1024) 262144      activation_369[0][0]             \n",
      "__________________________________________________________________________________________________\n",
      "conv4_2_1x1_increase/bn (BatchN (None, 14, 14, 1024) 4096        conv4_2_1x1_increase[0][0]       \n",
      "__________________________________________________________________________________________________\n",
      "add_120 (Add)                   (None, 14, 14, 1024) 0           conv4_2_1x1_increase/bn[0][0]    \n",
      "                                                                 activation_367[0][0]             \n",
      "__________________________________________________________________________________________________\n",
      "activation_370 (Activation)     (None, 14, 14, 1024) 0           add_120[0][0]                    \n",
      "__________________________________________________________________________________________________\n",
      "conv4_3_1x1_reduce (Conv2D)     (None, 14, 14, 256)  262144      activation_370[0][0]             \n",
      "__________________________________________________________________________________________________\n",
      "conv4_3_1x1_reduce/bn (BatchNor (None, 14, 14, 256)  1024        conv4_3_1x1_reduce[0][0]         \n",
      "__________________________________________________________________________________________________\n",
      "activation_371 (Activation)     (None, 14, 14, 256)  0           conv4_3_1x1_reduce/bn[0][0]      \n",
      "__________________________________________________________________________________________________\n",
      "conv4_3_3x3 (Conv2D)            (None, 14, 14, 256)  589824      activation_371[0][0]             \n",
      "__________________________________________________________________________________________________\n",
      "conv4_3_3x3/bn (BatchNormalizat (None, 14, 14, 256)  1024        conv4_3_3x3[0][0]                \n",
      "__________________________________________________________________________________________________\n",
      "activation_372 (Activation)     (None, 14, 14, 256)  0           conv4_3_3x3/bn[0][0]             \n",
      "__________________________________________________________________________________________________\n",
      "conv4_3_1x1_increase (Conv2D)   (None, 14, 14, 1024) 262144      activation_372[0][0]             \n",
      "__________________________________________________________________________________________________\n",
      "conv4_3_1x1_increase/bn (BatchN (None, 14, 14, 1024) 4096        conv4_3_1x1_increase[0][0]       \n",
      "__________________________________________________________________________________________________\n",
      "add_121 (Add)                   (None, 14, 14, 1024) 0           conv4_3_1x1_increase/bn[0][0]    \n",
      "                                                                 activation_370[0][0]             \n",
      "__________________________________________________________________________________________________\n",
      "activation_373 (Activation)     (None, 14, 14, 1024) 0           add_121[0][0]                    \n",
      "__________________________________________________________________________________________________\n",
      "conv4_4_1x1_reduce (Conv2D)     (None, 14, 14, 256)  262144      activation_373[0][0]             \n",
      "__________________________________________________________________________________________________\n",
      "conv4_4_1x1_reduce/bn (BatchNor (None, 14, 14, 256)  1024        conv4_4_1x1_reduce[0][0]         \n",
      "__________________________________________________________________________________________________\n",
      "activation_374 (Activation)     (None, 14, 14, 256)  0           conv4_4_1x1_reduce/bn[0][0]      \n",
      "__________________________________________________________________________________________________\n",
      "conv4_4_3x3 (Conv2D)            (None, 14, 14, 256)  589824      activation_374[0][0]             \n",
      "__________________________________________________________________________________________________\n",
      "conv4_4_3x3/bn (BatchNormalizat (None, 14, 14, 256)  1024        conv4_4_3x3[0][0]                \n",
      "__________________________________________________________________________________________________\n",
      "activation_375 (Activation)     (None, 14, 14, 256)  0           conv4_4_3x3/bn[0][0]             \n",
      "__________________________________________________________________________________________________\n",
      "conv4_4_1x1_increase (Conv2D)   (None, 14, 14, 1024) 262144      activation_375[0][0]             \n",
      "__________________________________________________________________________________________________\n",
      "conv4_4_1x1_increase/bn (BatchN (None, 14, 14, 1024) 4096        conv4_4_1x1_increase[0][0]       \n",
      "__________________________________________________________________________________________________\n",
      "add_122 (Add)                   (None, 14, 14, 1024) 0           conv4_4_1x1_increase/bn[0][0]    \n",
      "                                                                 activation_373[0][0]             \n",
      "__________________________________________________________________________________________________\n",
      "activation_376 (Activation)     (None, 14, 14, 1024) 0           add_122[0][0]                    \n",
      "__________________________________________________________________________________________________\n",
      "conv4_5_1x1_reduce (Conv2D)     (None, 14, 14, 256)  262144      activation_376[0][0]             \n",
      "__________________________________________________________________________________________________\n",
      "conv4_5_1x1_reduce/bn (BatchNor (None, 14, 14, 256)  1024        conv4_5_1x1_reduce[0][0]         \n",
      "__________________________________________________________________________________________________\n",
      "activation_377 (Activation)     (None, 14, 14, 256)  0           conv4_5_1x1_reduce/bn[0][0]      \n",
      "__________________________________________________________________________________________________\n",
      "conv4_5_3x3 (Conv2D)            (None, 14, 14, 256)  589824      activation_377[0][0]             \n",
      "__________________________________________________________________________________________________\n",
      "conv4_5_3x3/bn (BatchNormalizat (None, 14, 14, 256)  1024        conv4_5_3x3[0][0]                \n",
      "__________________________________________________________________________________________________\n",
      "activation_378 (Activation)     (None, 14, 14, 256)  0           conv4_5_3x3/bn[0][0]             \n",
      "__________________________________________________________________________________________________\n",
      "conv4_5_1x1_increase (Conv2D)   (None, 14, 14, 1024) 262144      activation_378[0][0]             \n",
      "__________________________________________________________________________________________________\n",
      "conv4_5_1x1_increase/bn (BatchN (None, 14, 14, 1024) 4096        conv4_5_1x1_increase[0][0]       \n",
      "__________________________________________________________________________________________________\n",
      "add_123 (Add)                   (None, 14, 14, 1024) 0           conv4_5_1x1_increase/bn[0][0]    \n",
      "                                                                 activation_376[0][0]             \n",
      "__________________________________________________________________________________________________\n",
      "activation_379 (Activation)     (None, 14, 14, 1024) 0           add_123[0][0]                    \n",
      "__________________________________________________________________________________________________\n",
      "conv4_6_1x1_reduce (Conv2D)     (None, 14, 14, 256)  262144      activation_379[0][0]             \n",
      "__________________________________________________________________________________________________\n",
      "conv4_6_1x1_reduce/bn (BatchNor (None, 14, 14, 256)  1024        conv4_6_1x1_reduce[0][0]         \n",
      "__________________________________________________________________________________________________\n",
      "activation_380 (Activation)     (None, 14, 14, 256)  0           conv4_6_1x1_reduce/bn[0][0]      \n",
      "__________________________________________________________________________________________________\n",
      "conv4_6_3x3 (Conv2D)            (None, 14, 14, 256)  589824      activation_380[0][0]             \n",
      "__________________________________________________________________________________________________\n",
      "conv4_6_3x3/bn (BatchNormalizat (None, 14, 14, 256)  1024        conv4_6_3x3[0][0]                \n",
      "__________________________________________________________________________________________________\n",
      "activation_381 (Activation)     (None, 14, 14, 256)  0           conv4_6_3x3/bn[0][0]             \n",
      "__________________________________________________________________________________________________\n",
      "conv4_6_1x1_increase (Conv2D)   (None, 14, 14, 1024) 262144      activation_381[0][0]             \n",
      "__________________________________________________________________________________________________\n",
      "conv4_6_1x1_increase/bn (BatchN (None, 14, 14, 1024) 4096        conv4_6_1x1_increase[0][0]       \n",
      "__________________________________________________________________________________________________\n",
      "add_124 (Add)                   (None, 14, 14, 1024) 0           conv4_6_1x1_increase/bn[0][0]    \n",
      "                                                                 activation_379[0][0]             \n",
      "__________________________________________________________________________________________________\n",
      "activation_382 (Activation)     (None, 14, 14, 1024) 0           add_124[0][0]                    \n",
      "__________________________________________________________________________________________________\n",
      "conv5_1_1x1_reduce (Conv2D)     (None, 7, 7, 512)    524288      activation_382[0][0]             \n",
      "__________________________________________________________________________________________________\n",
      "conv5_1_1x1_reduce/bn (BatchNor (None, 7, 7, 512)    2048        conv5_1_1x1_reduce[0][0]         \n",
      "__________________________________________________________________________________________________\n",
      "activation_383 (Activation)     (None, 7, 7, 512)    0           conv5_1_1x1_reduce/bn[0][0]      \n",
      "__________________________________________________________________________________________________\n",
      "conv5_1_3x3 (Conv2D)            (None, 7, 7, 512)    2359296     activation_383[0][0]             \n",
      "__________________________________________________________________________________________________\n",
      "conv5_1_3x3/bn (BatchNormalizat (None, 7, 7, 512)    2048        conv5_1_3x3[0][0]                \n",
      "__________________________________________________________________________________________________\n",
      "activation_384 (Activation)     (None, 7, 7, 512)    0           conv5_1_3x3/bn[0][0]             \n",
      "__________________________________________________________________________________________________\n",
      "conv5_1_1x1_increase (Conv2D)   (None, 7, 7, 2048)   1048576     activation_384[0][0]             \n",
      "__________________________________________________________________________________________________\n",
      "conv5_1_1x1_proj (Conv2D)       (None, 7, 7, 2048)   2097152     activation_382[0][0]             \n",
      "__________________________________________________________________________________________________\n",
      "conv5_1_1x1_increase/bn (BatchN (None, 7, 7, 2048)   8192        conv5_1_1x1_increase[0][0]       \n",
      "__________________________________________________________________________________________________\n",
      "conv5_1_1x1_proj/bn (BatchNorma (None, 7, 7, 2048)   8192        conv5_1_1x1_proj[0][0]           \n",
      "__________________________________________________________________________________________________\n",
      "add_125 (Add)                   (None, 7, 7, 2048)   0           conv5_1_1x1_increase/bn[0][0]    \n",
      "                                                                 conv5_1_1x1_proj/bn[0][0]        \n",
      "__________________________________________________________________________________________________\n",
      "activation_385 (Activation)     (None, 7, 7, 2048)   0           add_125[0][0]                    \n",
      "__________________________________________________________________________________________________\n",
      "conv5_2_1x1_reduce (Conv2D)     (None, 7, 7, 512)    1048576     activation_385[0][0]             \n",
      "__________________________________________________________________________________________________\n",
      "conv5_2_1x1_reduce/bn (BatchNor (None, 7, 7, 512)    2048        conv5_2_1x1_reduce[0][0]         \n",
      "__________________________________________________________________________________________________\n",
      "activation_386 (Activation)     (None, 7, 7, 512)    0           conv5_2_1x1_reduce/bn[0][0]      \n",
      "__________________________________________________________________________________________________\n",
      "conv5_2_3x3 (Conv2D)            (None, 7, 7, 512)    2359296     activation_386[0][0]             \n",
      "__________________________________________________________________________________________________\n",
      "conv5_2_3x3/bn (BatchNormalizat (None, 7, 7, 512)    2048        conv5_2_3x3[0][0]                \n",
      "__________________________________________________________________________________________________\n",
      "activation_387 (Activation)     (None, 7, 7, 512)    0           conv5_2_3x3/bn[0][0]             \n",
      "__________________________________________________________________________________________________\n",
      "conv5_2_1x1_increase (Conv2D)   (None, 7, 7, 2048)   1048576     activation_387[0][0]             \n",
      "__________________________________________________________________________________________________\n",
      "conv5_2_1x1_increase/bn (BatchN (None, 7, 7, 2048)   8192        conv5_2_1x1_increase[0][0]       \n",
      "__________________________________________________________________________________________________\n",
      "add_126 (Add)                   (None, 7, 7, 2048)   0           conv5_2_1x1_increase/bn[0][0]    \n",
      "                                                                 activation_385[0][0]             \n",
      "__________________________________________________________________________________________________\n",
      "activation_388 (Activation)     (None, 7, 7, 2048)   0           add_126[0][0]                    \n",
      "__________________________________________________________________________________________________\n",
      "conv5_3_1x1_reduce (Conv2D)     (None, 7, 7, 512)    1048576     activation_388[0][0]             \n",
      "__________________________________________________________________________________________________\n",
      "conv5_3_1x1_reduce/bn (BatchNor (None, 7, 7, 512)    2048        conv5_3_1x1_reduce[0][0]         \n",
      "__________________________________________________________________________________________________\n",
      "activation_389 (Activation)     (None, 7, 7, 512)    0           conv5_3_1x1_reduce/bn[0][0]      \n",
      "__________________________________________________________________________________________________\n",
      "conv5_3_3x3 (Conv2D)            (None, 7, 7, 512)    2359296     activation_389[0][0]             \n",
      "__________________________________________________________________________________________________\n",
      "conv5_3_3x3/bn (BatchNormalizat (None, 7, 7, 512)    2048        conv5_3_3x3[0][0]                \n",
      "__________________________________________________________________________________________________\n",
      "activation_390 (Activation)     (None, 7, 7, 512)    0           conv5_3_3x3/bn[0][0]             \n",
      "__________________________________________________________________________________________________\n",
      "conv5_3_1x1_increase (Conv2D)   (None, 7, 7, 2048)   1048576     activation_390[0][0]             \n",
      "__________________________________________________________________________________________________\n",
      "conv5_3_1x1_increase/bn (BatchN (None, 7, 7, 2048)   8192        conv5_3_1x1_increase[0][0]       \n",
      "__________________________________________________________________________________________________\n",
      "add_127 (Add)                   (None, 7, 7, 2048)   0           conv5_3_1x1_increase/bn[0][0]    \n",
      "                                                                 activation_388[0][0]             \n",
      "__________________________________________________________________________________________________\n",
      "activation_391 (Activation)     (None, 7, 7, 2048)   0           add_127[0][0]                    \n",
      "__________________________________________________________________________________________________\n",
      "avg_pool (AveragePooling2D)     (None, 1, 1, 2048)   0           activation_391[0][0]             \n",
      "==================================================================================================\n",
      "Total params: 23,561,152\n",
      "Trainable params: 23,508,032\n",
      "Non-trainable params: 53,120\n",
      "__________________________________________________________________________________________________\n"
     ]
    }
   ],
   "source": [
    "# Load VGGFace model with RESNet\n",
    "vggface_model = VGGFace(model='resnet50', include_top=False,\n",
    "                        input_shape=(224, 224, 3))\n",
    "vggface_model.summary()\n"
   ]
  },
  {
   "cell_type": "code",
   "execution_count": 141,
   "id": "6db3e4ed",
   "metadata": {},
   "outputs": [
    {
     "name": "stdout",
     "output_type": "stream",
     "text": [
      "Model: \"sequential_13\"\n",
      "_________________________________________________________________\n",
      "Layer (type)                 Output Shape              Param #   \n",
      "=================================================================\n",
      "vggface_resnet50 (Functional (None, 1, 1, 2048)        23561152  \n",
      "_________________________________________________________________\n",
      "flatten_13 (Flatten)         (None, 2048)              0         \n",
      "_________________________________________________________________\n",
      "dense_29 (Dense)             (None, 256)               524544    \n",
      "_________________________________________________________________\n",
      "dense_30 (Dense)             (None, 2)                 514       \n",
      "=================================================================\n",
      "Total params: 24,086,210\n",
      "Trainable params: 24,033,090\n",
      "Non-trainable params: 53,120\n",
      "_________________________________________________________________\n"
     ]
    }
   ],
   "source": [
    "# freeze of all netword excepting last N\n",
    "vggface_model.trainable = True\n",
    "# last_N = 50\n",
    "# for layer in vggface_model.layers[:178-last_N]:\n",
    "#     layer.trainable = False\n",
    "    \n",
    "# build final model\n",
    "model = tf.keras.Sequential([\n",
    "    vggface_model,\n",
    "    tf.keras.layers.Flatten(),\n",
    "    tf.keras.layers.Dense(256, activation='relu'),\n",
    "#     tf.keras.layers.Dropout(0.1),\n",
    "#     tf.keras.layers.Dense(64, activation='relu'),\n",
    "#     tf.keras.layers.Dropout(0.1),\n",
    "    tf.keras.layers.Dense(2, activation='linear')])\n",
    "\n",
    "# model = tf.keras.Sequential([vggface_model, \n",
    "#                              tf.keras.layers.Flatten(),\n",
    "#                              tf.keras.layers.Dense(2, activation='linear')])\n",
    "model.build(input_shape=(None, 224, 224, 3))\n",
    "model.summary()"
   ]
  },
  {
   "cell_type": "code",
   "execution_count": 142,
   "id": "3e957a4c",
   "metadata": {},
   "outputs": [],
   "source": [
    "model.compile(optimizer=tf.keras.optimizers.Adam(learning_rate=0.00001),\n",
    "              loss='mse',\n",
    "              metrics='mae')"
   ]
  },
  {
   "cell_type": "code",
   "execution_count": 143,
   "id": "6b5a618f",
   "metadata": {},
   "outputs": [
    {
     "data": {
      "image/png": "[encoded data removed]",
      "text/plain": [
       "<Figure size 864x576 with 2 Axes>"
      ]
     },
     "metadata": {
      "needs_background": "light"
     },
     "output_type": "display_data"
    },
    {
     "name": "stdout",
     "output_type": "stream",
     "text": [
      "Loss\n",
      "\ttraining         \t (min:    0.948, max:    1.405, cur:    0.948)\n",
      "\tvalidation       \t (min:    6.166, max:    7.672, cur:    7.645)\n",
      "mae\n",
      "\ttraining         \t (min:    0.696, max:    0.888, cur:    0.696)\n",
      "\tvalidation       \t (min:    2.168, max:    2.421, cur:    2.407)\n",
      "\n",
      "Epoch 00005: val_mae did not improve from 2.16775\n",
      "\b\b\b\b\b\b\b\b\b\b\b\b\b\b\b\b\b\b\b\b\b\b\b\b\b\b\b\b\b\b\b\b\b\b\b\b\b\b\b\b\b\b\b\b\b\b\b\b\b\b\b\b\b\b\b\b\b\b\b\b\b\b\b\b\b\b\b\b\b\b\b\b\b\b\b\b\b\b\b\b\b\r",
      "2503/2503 [==============================] - 642s 257ms/step - loss: 0.9481 - mae: 0.6957 - val_loss: 7.6449 - val_mae: 2.4068\n"
     ]
    }
   ],
   "source": [
    "EPOCHS = 5\n",
    "\n",
    "my_callbacks = [\n",
    "    PlotLossesCallback(),\n",
    "    tf.keras.callbacks.ModelCheckpoint('./_models/_checkpoints/best_checkpoint',\n",
    "                                       monitor='val_mae',\n",
    "                                       verbose=1,\n",
    "                                       save_best_only=True,\n",
    "                                       save_weights_only=True,\n",
    "                                       save_freq='epoch',\n",
    "                                       mode='min')\n",
    "]\n",
    "\n",
    "history = model.fit(\n",
    "    train_data_gen,\n",
    "    epochs=EPOCHS,\n",
    "    validation_data=val_data_gen,\n",
    "    callbacks=my_callbacks)"
   ]
  },
  {
   "cell_type": "markdown",
   "id": "e2958aed",
   "metadata": {},
   "source": [
    "# Evaluate model"
   ]
  },
  {
   "cell_type": "code",
   "execution_count": 144,
   "id": "b05449c3",
   "metadata": {},
   "outputs": [
    {
     "name": "stdout",
     "output_type": "stream",
     "text": [
      "626/626 [==============================] - 151s 241ms/step - loss: 7.6663 - mae: 2.4102\n"
     ]
    },
    {
     "data": {
      "text/plain": [
       "[7.666311264038086, 2.4102020263671875]"
      ]
     },
     "execution_count": 144,
     "metadata": {},
     "output_type": "execute_result"
    }
   ],
   "source": [
    "model.evaluate(val_data_gen)"
   ]
  },
  {
   "cell_type": "markdown",
   "id": "74872a21",
   "metadata": {},
   "source": [
    "# Save model"
   ]
  },
  {
   "cell_type": "code",
   "execution_count": 102,
   "id": "14d78ad5",
   "metadata": {},
   "outputs": [],
   "source": [
    "model_json = model.to_json()\n",
    "with open(\"./_models/valence_arousal_decomposition/model.json\",\"w\") as json_file:\n",
    "    json_file.write(model_json)"
   ]
  },
  {
   "cell_type": "code",
   "execution_count": 103,
   "id": "0a61e8b8",
   "metadata": {},
   "outputs": [],
   "source": [
    "model.save_weights(\"./_models/valence_arousal_decomposition/saved_weights\")"
   ]
  },
  {
   "cell_type": "markdown",
   "id": "5538a755",
   "metadata": {},
   "source": [
    "# Load model"
   ]
  },
  {
   "cell_type": "code",
   "execution_count": 104,
   "id": "5887192c",
   "metadata": {},
   "outputs": [
    {
     "data": {
      "text/plain": [
       "<tensorflow.python.training.tracking.util.CheckpointLoadStatus at 0x2166b137f08>"
      ]
     },
     "execution_count": 104,
     "metadata": {},
     "output_type": "execute_result"
    }
   ],
   "source": [
    "from tensorflow.keras.models import model_from_json\n",
    "\n",
    "with open(\"./_models/valence_arousal_decomposition/model.json\",\"r\") as json_file:\n",
    "    model_json = json_file.read()\n",
    "model_new = model_from_json(model_json)\n",
    "\n",
    "model_new.load_weights(\"./_models/valence_arousal_decomposition/saved_weights\")"
   ]
  },
  {
   "cell_type": "markdown",
   "id": "8e16cae7",
   "metadata": {},
   "source": [
    "# Test model"
   ]
  },
  {
   "cell_type": "code",
   "execution_count": 105,
   "id": "43e2f4a6",
   "metadata": {},
   "outputs": [],
   "source": [
    "# тестовое изображение\n",
    "img = cv2.imread('./test_foto/happy.jpg')\n",
    "img = cv2.resize(img, (224,224))\n",
    "img = np.expand_dims(img, 0)"
   ]
  },
  {
   "cell_type": "code",
   "execution_count": 106,
   "id": "80538343",
   "metadata": {},
   "outputs": [
    {
     "data": {
      "text/plain": [
       "array([[4.444398, 4.255998]], dtype=float32)"
      ]
     },
     "execution_count": 106,
     "metadata": {},
     "output_type": "execute_result"
    }
   ],
   "source": [
    "# предсказание параметров эмоции\n",
    "prediction = model_new(img).numpy()\n",
    "prediction"
   ]
  },
  {
   "cell_type": "code",
   "execution_count": 107,
   "id": "b03400c2",
   "metadata": {},
   "outputs": [
    {
     "data": {
      "text/plain": [
       "[[1.5, 6.72],\n",
       " [1.5, 3.75],\n",
       " [3.5, 2.5],\n",
       " [2.0, 6.2],\n",
       " [6.6, 4.2],\n",
       " [4.0, 4.0],\n",
       " [1.5, 1.5],\n",
       " [6.0, 6.0],\n",
       " [3.0, 4.0]]"
      ]
     },
     "execution_count": 107,
     "metadata": {},
     "output_type": "execute_result"
    }
   ],
   "source": [
    "# список с векторами имеющихся 9 эмоций\n",
    "list(VA_emotions.values())"
   ]
  },
  {
   "cell_type": "code",
   "execution_count": 108,
   "id": "d18170ac",
   "metadata": {},
   "outputs": [],
   "source": [
    "# использую KDTree для поиска ближайшего вектора из этого списка к предсказанию\n",
    "from scipy import spatial\n",
    "emotions = spatial.KDTree(list(VA_emotions.values()))\n",
    "\n",
    "emotion_number = int(emotions.query(prediction)[1])"
   ]
  },
  {
   "cell_type": "code",
   "execution_count": 109,
   "id": "6c727e03",
   "metadata": {
    "scrolled": true
   },
   "outputs": [
    {
     "data": {
      "text/plain": [
       "'neutral'"
      ]
     },
     "execution_count": 109,
     "metadata": {},
     "output_type": "execute_result"
    }
   ],
   "source": [
    "emotion_name = list(VA_emotions.keys())[emotion_number]\n",
    "emotion_name"
   ]
  },
  {
   "cell_type": "markdown",
   "id": "c140fe2b",
   "metadata": {},
   "source": [
    "# Make test predicion for Kaggle"
   ]
  },
  {
   "cell_type": "code",
   "execution_count": 110,
   "id": "680aaaea",
   "metadata": {},
   "outputs": [],
   "source": [
    "import os, glob, pandas as pd\n",
    "\n",
    "filenames, emotions = [], []\n",
    "emotions_vectors = spatial.KDTree(list(VA_emotions.values()))\n",
    "\n",
    "from PIL import Image\n",
    "for filename in glob.glob('./_datasets/test_dataset/*.jpg'):\n",
    "  with open(filename, 'r') as f:\n",
    "    img = Image.open(filename)\n",
    "    img = img.resize((224,224))\n",
    "    img = np.array(img)\n",
    "    img = np.expand_dims(img, 0)\n",
    "    prediction = model_new.predict(img)\n",
    "    emotion_number = int(emotions_vectors.query(prediction)[1])\n",
    "    emotion_name = list(VA_emotions.keys())[emotion_number]\n",
    "    filenames.append(filename)\n",
    "    emotions.append(emotion_name)"
   ]
  },
  {
   "cell_type": "code",
   "execution_count": 111,
   "id": "8ba2cc65",
   "metadata": {},
   "outputs": [
    {
     "data": {
      "text/html": [
       "<div>\n",
       "<style scoped>\n",
       "    .dataframe tbody tr th:only-of-type {\n",
       "        vertical-align: middle;\n",
       "    }\n",
       "\n",
       "    .dataframe tbody tr th {\n",
       "        vertical-align: top;\n",
       "    }\n",
       "\n",
       "    .dataframe thead th {\n",
       "        text-align: right;\n",
       "    }\n",
       "</style>\n",
       "<table border=\"1\" class=\"dataframe\">\n",
       "  <thead>\n",
       "    <tr style=\"text-align: right;\">\n",
       "      <th></th>\n",
       "      <th>image_path</th>\n",
       "      <th>emotion</th>\n",
       "    </tr>\n",
       "  </thead>\n",
       "  <tbody>\n",
       "    <tr>\n",
       "      <th>0</th>\n",
       "      <td>0.jpg</td>\n",
       "      <td>disgust</td>\n",
       "    </tr>\n",
       "    <tr>\n",
       "      <th>1</th>\n",
       "      <td>1.jpg</td>\n",
       "      <td>uncertain</td>\n",
       "    </tr>\n",
       "    <tr>\n",
       "      <th>2</th>\n",
       "      <td>10.jpg</td>\n",
       "      <td>neutral</td>\n",
       "    </tr>\n",
       "    <tr>\n",
       "      <th>3</th>\n",
       "      <td>100.jpg</td>\n",
       "      <td>uncertain</td>\n",
       "    </tr>\n",
       "    <tr>\n",
       "      <th>4</th>\n",
       "      <td>1000.jpg</td>\n",
       "      <td>neutral</td>\n",
       "    </tr>\n",
       "  </tbody>\n",
       "</table>\n",
       "</div>"
      ],
      "text/plain": [
       "  image_path    emotion\n",
       "0      0.jpg    disgust\n",
       "1      1.jpg  uncertain\n",
       "2     10.jpg    neutral\n",
       "3    100.jpg  uncertain\n",
       "4   1000.jpg    neutral"
      ]
     },
     "execution_count": 111,
     "metadata": {},
     "output_type": "execute_result"
    }
   ],
   "source": [
    "data = {'image_path': filenames, 'emotion': emotions}\n",
    "df = pd.DataFrame(data)\n",
    "df['image_path'] = df['image_path'].apply(lambda x: x[25:])\n",
    "df.head()"
   ]
  },
  {
   "cell_type": "code",
   "execution_count": 112,
   "id": "21493c28",
   "metadata": {},
   "outputs": [],
   "source": [
    "df.to_csv('VA_submission.csv', index=False)"
   ]
  }
 ],
 "metadata": {
  "kernelspec": {
   "display_name": "Python 3",
   "language": "python",
   "name": "python3"
  },
  "language_info": {
   "codemirror_mode": {
    "name": "ipython",
    "version": 3
   },
   "file_extension": ".py",
   "mimetype": "text/x-python",
   "name": "python",
   "nbconvert_exporter": "python",
   "pygments_lexer": "ipython3",
   "version": "3.7.10"
  },
  "toc": {
   "base_numbering": 1,
   "nav_menu": {},
   "number_sections": true,
   "sideBar": true,
   "skip_h1_title": false,
   "title_cell": "Table of Contents",
   "title_sidebar": "Contents",
   "toc_cell": false,
   "toc_position": {},
   "toc_section_display": true,
   "toc_window_display": true
  },
  "varInspector": {
   "cols": {
    "lenName": 16,
    "lenType": 16,
    "lenVar": 40
   },
   "kernels_config": {
    "python": {
     "delete_cmd_postfix": "",
     "delete_cmd_prefix": "del ",
     "library": "var_list.py",
     "varRefreshCmd": "print(var_dic_list())"
    },
    "r": {
     "delete_cmd_postfix": ") ",
     "delete_cmd_prefix": "rm(",
     "library": "var_list.r",
     "varRefreshCmd": "cat(var_dic_list()) "
    }
   },
   "types_to_exclude": [
    "module",
    "function",
    "builtin_function_or_method",
    "instance",
    "_Feature"
   ],
   "window_display": false
  }
 },
 "nbformat": 4,
 "nbformat_minor": 5
}
